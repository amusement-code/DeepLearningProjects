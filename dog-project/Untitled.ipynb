{
 "cells": [
  {
   "cell_type": "code",
   "execution_count": 24,
   "metadata": {},
   "outputs": [
    {
     "name": "stdout",
     "output_type": "stream",
     "text": [
      "reduce_graph 2:\n",
      "[10, 60, 70, 80, 90, 120]\n"
     ]
    }
   ],
   "source": [
    "\n",
    "class Graph(object):\n",
    "\n",
    "    def __init__(self, graph_dict=None):\n",
    "        if graph_dict == None:\n",
    "            graph_dict = {}\n",
    "        self.__graph_dict = graph_dict\n",
    "\n",
    "    def __get_root(self):\n",
    "        return list(self.__graph_dict.keys())[0]\n",
    "    \n",
    "    def reduce_graph(self, height):\n",
    "        root = self.__get_root()\n",
    "        reduce = []\n",
    "        node_to_level = {root: 0}\n",
    "        check_nodes = [root]\n",
    "        current_index = 0\n",
    "        still_run = True\n",
    "        #pre proccess the graph to add level to the nodes\n",
    "        #need to do this in the init\n",
    "        while still_run == True:\n",
    "            \n",
    "            for neighbour in self.__graph_dict[check_nodes[current_index]]:\n",
    "                if neighbour not in check_nodes:\n",
    "                    check_nodes.append(neighbour)\n",
    "                    #we added a new node to the node - level dict\n",
    "                    node_to_level[neighbour] = node_to_level[check_nodes[current_index]] + 1\n",
    "                \n",
    "            current_index += 1\n",
    "            if current_index == len(check_nodes):\n",
    "                still_run = False\n",
    "            \n",
    "        for node, level in node_to_level.items():\n",
    "            if level % height == 0:\n",
    "                reduce.append(node)\n",
    "            \n",
    "        return reduce\n",
    "\n",
    "\n",
    "\n",
    "if __name__ == \"__main__\":\n",
    "\n",
    "    g = { 10: [20, 30, 40, 50],\n",
    "          20: [60, 70],\n",
    "          30: [],\n",
    "          40: [],\n",
    "          50: [80, 90],\n",
    "          60: [100],\n",
    "          70: [100],\n",
    "          80: [110],\n",
    "          90: [110],\n",
    "          100: [120],\n",
    "          110: [120],\n",
    "          120: []\n",
    "        }\n",
    "\n",
    "\n",
    "    graph = Graph(g)\n",
    "\n",
    "    print(\"reduce_graph 2:\")\n",
    "    print(graph.reduce_graph(2))\n"
   ]
  },
  {
   "cell_type": "code",
   "execution_count": null,
   "metadata": {},
   "outputs": [],
   "source": []
  }
 ],
 "metadata": {
  "kernelspec": {
   "display_name": "Python 3",
   "language": "python",
   "name": "python3"
  },
  "language_info": {
   "codemirror_mode": {
    "name": "ipython",
    "version": 3
   },
   "file_extension": ".py",
   "mimetype": "text/x-python",
   "name": "python",
   "nbconvert_exporter": "python",
   "pygments_lexer": "ipython3",
   "version": "3.6.4"
  }
 },
 "nbformat": 4,
 "nbformat_minor": 2
}
